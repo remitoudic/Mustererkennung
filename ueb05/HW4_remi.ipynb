{
 "cells": [
  {
   "cell_type": "code",
   "execution_count": 91,
   "metadata": {
    "collapsed": false,
    "deletable": true,
    "editable": true
   },
   "outputs": [
    {
     "name": "stdout",
     "output_type": "stream",
     "text": [
      "OK\n"
     ]
    }
   ],
   "source": [
    "import pandas as pd \n",
    "import numpy as np\n",
    "from sklearn.model_selection import train_test_split\n",
    "\n",
    "data_link = 'https://archive.ics.uci.edu/ml/machine-learning-databases/spambase/spambase.data'\n",
    "\n",
    "def preprocessing(url_data): \n",
    "        #read data ,convert to numpy \n",
    "    data = pd.read_csv(data_link,header=0).values\n",
    "\n",
    "        # make train and test dataset\n",
    "    X_train, X_test = train_test_split( data, test_size=0.33)\n",
    "  \n",
    "        #filter spam / email \n",
    "    X_train_spam=X_train[ X_train[:,-1] ==1]\n",
    "    X_train_email=X_train[X_train[:,-1] == 0]\n",
    "    \n",
    "    X_test_spam=X_test[X_test[:,-1]== 1]\n",
    "    X_test_email=X_test[X_test[:,-1]== 0]\n",
    "    \n",
    "    \n",
    "    return(X_train_spam,X_train_email, X_test_spam ,X_test_email)\n",
    "\n",
    "    \n",
    "X_train_spam, X_train_email, X_test_spam, X_test_email = preprocessing(data_link)\n",
    "\n",
    "print('OK')\n",
    "\n",
    "    "
   ]
  },
  {
   "cell_type": "code",
   "execution_count": 92,
   "metadata": {
    "collapsed": false
   },
   "outputs": [],
   "source": [
    "#1  find the best projection vector (formuala from lecture ( alpha) )\n",
    "\n",
    "def fisher_criterion(Klass1, Klass2): \n",
    "\n",
    "    sigma1= np.cov(class1, rowvar = False)\n",
    "    sigma1= np.cov(class1, rowvar = False)\n",
    "    \n",
    "    mu1=np.mean(class1) # wrong I have to get  the mean vector... \n",
    "    mu2= np.mean(class2)\n",
    "    \n",
    "    scalar_factor= 1 \n",
    "    alpha =  pinv(sigma1+sigma2) * (mu1-mu2)\n",
    "    \n",
    "    return alpha\n",
    "\n",
    "#2  compute projection of  the data point on alpha for both class(scalar multiplicaton this alpha)\n",
    "#3  compute probabilty density of the data point projected  for both class \n",
    "\n",
    "#4  Prediction  -simple way  : compare probalitlty and take the bigest \n",
    "#               -efficent way : calculate intersection of the to pdf and projects it on apha and decison  boundary\n",
    "\n",
    "    \n",
    "    "
   ]
  },
  {
   "cell_type": "code",
   "execution_count": null,
   "metadata": {
    "collapsed": true
   },
   "outputs": [],
   "source": []
  }
 ],
 "metadata": {
  "kernelspec": {
   "display_name": "Python 3",
   "language": "python",
   "name": "python3"
  },
  "language_info": {
   "codemirror_mode": {
    "name": "ipython",
    "version": 3
   },
   "file_extension": ".py",
   "mimetype": "text/x-python",
   "name": "python",
   "nbconvert_exporter": "python",
   "pygments_lexer": "ipython3",
   "version": "3.5.2"
  }
 },
 "nbformat": 4,
 "nbformat_minor": 2
}
